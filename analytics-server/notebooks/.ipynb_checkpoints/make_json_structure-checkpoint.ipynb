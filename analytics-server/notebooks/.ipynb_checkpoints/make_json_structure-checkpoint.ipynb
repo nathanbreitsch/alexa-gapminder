{
 "cells": [
  {
   "cell_type": "code",
   "execution_count": 2,
   "metadata": {
    "collapsed": true
   },
   "outputs": [],
   "source": [
    "import json\n",
    "import csv\n",
    "import os"
   ]
  },
  {
   "cell_type": "code",
   "execution_count": 3,
   "metadata": {
    "collapsed": false
   },
   "outputs": [],
   "source": [
    "country_dict = {}\n",
    "\n",
    "def parseFloat(value):\n",
    "    if value == '':\n",
    "        return None\n",
    "    else:\n",
    "        try:\n",
    "            return float(value)\n",
    "        except ValueError:\n",
    "            return None\n",
    "\n",
    "for filename in os.listdir('../data/csv'):\n",
    "    with open('../data/csv/%s'%filename, 'r') as f:\n",
    "        csvreader = csv.DictReader(f, delimiter=',', quotechar=\"\\\"\")\n",
    "        stat_name = filename.replace('.csv', '')\n",
    "        for row in csvreader:\n",
    "            if row['Country'] not in country_dict:\n",
    "                country_dict[row['Country']] ={'name': row['Country']}\n",
    "            country_dict[row['Country']][stat_name] = []\n",
    "\n",
    "            for (key, value) in row.items():\n",
    "                if key != \"Country\" and value != '':\n",
    "                    country_dict[row['Country']][stat_name].append({\n",
    "                            'year': int(key),\n",
    "                            'value': parseFloat(value)\n",
    "                        })\n",
    "                    \n",
    "\n",
    "\n",
    "with open('../data/json/countries.json', 'w') as f:\n",
    "    json.dump({'countries': [v for v in country_dict.values()]}, f, sort_keys=True, indent=4, separators=(',', ': '))\n",
    "    \n"
   ]
  },
  {
   "cell_type": "code",
   "execution_count": 4,
   "metadata": {
    "collapsed": false
   },
   "outputs": [
    {
     "data": {
      "text/plain": [
       "False"
      ]
     },
     "execution_count": 4,
     "metadata": {},
     "output_type": "execute_result"
    }
   ],
   "source": [
    "0 == None"
   ]
  },
  {
   "cell_type": "code",
   "execution_count": null,
   "metadata": {
    "collapsed": true
   },
   "outputs": [],
   "source": []
  }
 ],
 "metadata": {
  "kernelspec": {
   "display_name": "Python 3",
   "language": "python",
   "name": "python3"
  },
  "language_info": {
   "codemirror_mode": {
    "name": "ipython",
    "version": 3
   },
   "file_extension": ".py",
   "mimetype": "text/x-python",
   "name": "python",
   "nbconvert_exporter": "python",
   "pygments_lexer": "ipython3",
   "version": "3.5.1"
  }
 },
 "nbformat": 4,
 "nbformat_minor": 0
}
